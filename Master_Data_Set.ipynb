{
 "cells": [
  {
   "cell_type": "markdown",
   "id": "c876fa24",
   "metadata": {},
   "source": [
    "## Compiling Master Data Set"
   ]
  },
  {
   "cell_type": "code",
   "execution_count": null,
   "id": "7a709c9d",
   "metadata": {},
   "outputs": [],
   "source": [
    "# Import packages\n",
    "import pandas as pd\n",
    "import seaborn as sns\n",
    "import sqlite3 as sq\n",
    "import matplotlib.pyplot as plt\n",
    "%matplotlib inline\n",
    "\n",
    "# Add extra relevant packages below as needed: \n",
    "import shutil\n",
    "import numpy as np\n",
    "import os\n",
    "import re"
   ]
  },
  {
   "cell_type": "code",
   "execution_count": null,
   "id": "6bd08ba0",
   "metadata": {},
   "outputs": [],
   "source": [
    "# Import TMDB Database and format\n",
    "db = pd.read_csv('zippedData/tmdb.movies.csv.gz')\n",
    "db['genre_ids'].replace([''], np.nan, inplace=True)\n",
    "\n",
    "#Import TN Database\n",
    "tn_budget_raw = pd.read_csv('zippedData/tn.movie_budgets.csv.gz')\n",
    "\n",
    "#Combine TN and TMDB databases\n",
    "result = pd.merge(tn_budget_raw, db, left_on='movie', right_on='original_title',how='inner')\n",
    "result.drop(columns=['id_x','Unnamed: 0','genre_ids','id_y','original_title','title'], inplace=True)\n",
    "\n",
    "# Unzip IMDB SQL to new folder repository\n",
    "import zipfile\n",
    "with zipfile.ZipFile(\"zippedData/im.db.zip\", 'r') as zip_ref:\n",
    "    zip_ref.extractall(\"temp/IMDB_sql\")\n",
    "    \n",
    "db_file = 'temp/IMDB_sql/im.db'\n",
    "\n",
    "# Initializing imdb SQL database\n",
    "# Create a SQL connection to our SQLite database\n",
    "con = sq.connect(db_file)\n",
    "\n",
    "\n",
    "## Query database for relevant information\n",
    "genre_reviews = pd.read_sql(\"\"\" SELECT genres, primary_title, start_year\n",
    "                \n",
    "                FROM movie_basics\n",
    "                LEFT JOIN movie_ratings ON movie_ratings.movie_id = movie_basics.movie_id\n",
    "                JOIN movie_akas ON movie_akas.movie_id = movie_basics.movie_id\n",
    "                WHERE start_year >= 2015 and region = 'US'\n",
    "                ORDER BY averagerating DESC\n",
    "\n",
    "\"\"\", con)\n",
    "\n",
    "# Remove NaN values from SQL database\n",
    "genre_reviews.dropna(inplace = True)\n",
    "\n",
    "# Combine CSV and SQL data and format\n",
    "comb_data = pd.merge(result, genre_reviews, left_on='movie', right_on='primary_title',how='inner')\n",
    "comb_data.drop(columns=['primary_title', 'release_date_x','release_date_y'], inplace=True)\n",
    "comb_data.drop_duplicates(subset=['movie'], inplace=True, ignore_index=True)\n",
    "\n",
    "# Convert production budgets into ints\n",
    "comb_data['production_budget'] = comb_data['production_budget'].str.strip('$')\n",
    "comb_data['production_budget'] = comb_data['production_budget'].str.replace(',','')\n",
    "comb_data['production_budget'] = comb_data['production_budget'].astype(int)\n",
    "\n",
    "#Convert domestic gross into ints\n",
    "comb_data['domestic_gross'] = comb_data['domestic_gross'].str.strip('$')\n",
    "comb_data['domestic_gross'] = comb_data['domestic_gross'].str.replace(',','')\n",
    "comb_data['domestic_gross'] = comb_data['domestic_gross'].astype(int)\n",
    "\n",
    "# Convert worldwide gross into ints\n",
    "comb_data['worldwide_gross'] = comb_data['worldwide_gross'].str.strip('$')\n",
    "comb_data['worldwide_gross'] = comb_data['worldwide_gross'].str.replace(',','')\n",
    "comb_data['worldwide_gross'] = comb_data['worldwide_gross'].astype(int)\n",
    "\n",
    "# Removing movies that made less than $25,000\n",
    "comb_data = comb_data[(comb_data['worldwide_gross'] > 25000)]\n",
    "\n",
    "# Create movie net columns\n",
    "comb_data['worldwide_net'] = comb_data['worldwide_gross'] - comb_data['production_budget']\n",
    "comb_data['domestic_net'] = comb_data['domestic_gross'] - comb_data['production_budget']\n",
    "\n",
    "# Sort by worldwide net\n",
    "comb_data.sort_values(by=\"worldwide_net\", ascending=False, inplace=True, ignore_index=True)"
   ]
  },
  {
   "cell_type": "code",
   "execution_count": null,
   "id": "763667f3",
   "metadata": {},
   "outputs": [],
   "source": [
    "# Create new df with genre counts higher than n\n",
    "df1 = comb_data[comb_data['genres'].map(comb_data['genres'].value_counts()) > 10]"
   ]
  },
  {
   "cell_type": "code",
   "execution_count": null,
   "id": "09fcd4a2",
   "metadata": {},
   "outputs": [],
   "source": [
    "# Print master data frame\n",
    "comb_data"
   ]
  }
 ],
 "metadata": {
  "kernelspec": {
   "display_name": "Python 3 (ipykernel)",
   "language": "python",
   "name": "python3"
  },
  "language_info": {
   "codemirror_mode": {
    "name": "ipython",
    "version": 3
   },
   "file_extension": ".py",
   "mimetype": "text/x-python",
   "name": "python",
   "nbconvert_exporter": "python",
   "pygments_lexer": "ipython3",
   "version": "3.9.7"
  }
 },
 "nbformat": 4,
 "nbformat_minor": 5
}
